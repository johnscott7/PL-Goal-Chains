{
 "cells": [
  {
   "cell_type": "code",
   "execution_count": null,
   "id": "f2aae67a-e69b-4ae3-8bfd-17b6876cd1a8",
   "metadata": {},
   "outputs": [],
   "source": [
    "import asyncio, aiohttp, nest_asyncio, pandas as pd, json, os\n",
    "from understat import Understat\n",
    "nest_asyncio.apply()\n",
    "\n",
    "MATCH_ID = 26975  # change this if you want another game\n",
    "\n",
    "async def get_shots(match_id: int):\n",
    "    async with aiohttp.ClientSession() as s:\n",
    "        u = Understat(s)\n",
    "        return await u.get_match_shots(match_id)\n",
    "\n",
    "shots = asyncio.get_event_loop().run_until_complete(get_shots(MATCH_ID))\n",
    "\n",
    "# flatten to a table\n",
    "rows = []\n",
    "for side in ('h','a'):\n",
    "    for d in shots[side]:\n",
    "        rows.append({\n",
    "            'side': side,                        # 'h' (home) or 'a' (away)\n",
    "            'team': d.get('team'),\n",
    "            'player': d.get('player'),\n",
    "            'minute': int(d.get('minute', 0)),\n",
    "            'xG': float(d.get('xG', 0)),\n",
    "            'result': d.get('result'),\n",
    "            'situation': d.get('situation'),\n",
    "            'shotType': d.get('shotType'),\n",
    "            'x': float(d.get('X', 0)),\n",
    "            'y': float(d.get('Y', 0)),\n",
    "        })\n",
    "\n",
    "df = pd.DataFrame(rows).sort_values('xG', ascending=False).reset_index(drop=True)\n",
    "df.head(10)  # shows the highest xG shots firs"
   ]
  }
 ],
 "metadata": {
  "kernelspec": {
   "display_name": "Python 3 (ipykernel)",
   "language": "python",
   "name": "python3"
  },
  "language_info": {
   "codemirror_mode": {
    "name": "ipython",
    "version": 3
   },
   "file_extension": ".py",
   "mimetype": "text/x-python",
   "name": "python",
   "nbconvert_exporter": "python",
   "pygments_lexer": "ipython3",
   "version": "3.11.13"
  }
 },
 "nbformat": 4,
 "nbformat_minor": 5
}
